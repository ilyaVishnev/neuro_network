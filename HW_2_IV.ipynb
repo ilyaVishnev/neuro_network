{
  "cells": [
    {
      "cell_type": "code",
      "execution_count": null,
      "id": "equivalent-arkansas",
      "metadata": {
        "id": "equivalent-arkansas"
      },
      "outputs": [],
      "source": [
        "from keras.datasets import fashion_mnist\n",
        "from keras.utils.vis_utils import plot_model\n",
        "from keras.layers import Dense\n",
        "from keras.models import Sequential\n",
        "from tensorflow.keras.utils import to_categorical\n",
        "from keras.optimizers.legacy import SGD\n",
        "from keras.optimizers.legacy import RMSprop\n",
        "from keras.optimizers.legacy import Adam\n",
        "from sklearn.metrics import confusion_matrix\n",
        "import numpy as np\n",
        "import pandas as pd\n",
        "import matplotlib.pyplot as plt\n",
        "import seaborn as sn\n",
        "import tensorflow as tf\n",
        "import itertools\n",
        "\n",
        "%matplotlib inline"
      ]
    },
    {
      "cell_type": "code",
      "execution_count": null,
      "id": "lesbian-emerald",
      "metadata": {
        "id": "lesbian-emerald"
      },
      "outputs": [],
      "source": [
        "tf.random.set_seed(1)"
      ]
    },
    {
      "cell_type": "code",
      "execution_count": null,
      "id": "black-light",
      "metadata": {
        "colab": {
          "base_uri": "https://localhost:8080/"
        },
        "id": "black-light",
        "outputId": "c710ecbb-c2a5-478e-8574-2318e0dd4007"
      },
      "outputs": [
        {
          "name": "stdout",
          "output_type": "stream",
          "text": [
            "Downloading data from https://storage.googleapis.com/tensorflow/tf-keras-datasets/train-labels-idx1-ubyte.gz\n",
            "32768/29515 [=================================] - 0s 0us/step\n",
            "40960/29515 [=========================================] - 0s 0us/step\n",
            "Downloading data from https://storage.googleapis.com/tensorflow/tf-keras-datasets/train-images-idx3-ubyte.gz\n",
            "26427392/26421880 [==============================] - 0s 0us/step\n",
            "26435584/26421880 [==============================] - 0s 0us/step\n",
            "Downloading data from https://storage.googleapis.com/tensorflow/tf-keras-datasets/t10k-labels-idx1-ubyte.gz\n",
            "16384/5148 [===============================================================================================] - 0s 0us/step\n",
            "Downloading data from https://storage.googleapis.com/tensorflow/tf-keras-datasets/t10k-images-idx3-ubyte.gz\n",
            "4423680/4422102 [==============================] - 0s 0us/step\n",
            "4431872/4422102 [==============================] - 0s 0us/step\n",
            "(60000, 28, 28) (10000, 28, 28)\n",
            "(60000,)\n"
          ]
        }
      ],
      "source": [
        "(X_train, y_train_labels), (X_test, y_test_labels) = fashion_mnist.load_data()\n",
        "print(X_train.shape, X_test.shape)\n",
        "print(y_train_labels.shape)"
      ]
    },
    {
      "cell_type": "code",
      "execution_count": null,
      "id": "judicial-lawsuit",
      "metadata": {
        "colab": {
          "base_uri": "https://localhost:8080/",
          "height": 282
        },
        "id": "judicial-lawsuit",
        "outputId": "c463dd7f-8032-4983-83a8-f8510317e392"
      },
      "outputs": [
        {
          "name": "stdout",
          "output_type": "stream",
          "text": [
            "Label is 4\n"
          ]
        },
        {
          "data": {
            "image/png": "[encoded data removed]",
            "text/plain": [
              "<Figure size 432x288 with 1 Axes>"
            ]
          },
          "metadata": {
            "needs_background": "light"
          },
          "output_type": "display_data"
        }
      ],
      "source": [
        "ind = np.random.randint(0, X_train.shape[0])\n",
        "plt.imshow(X_train[ind], cmap='gray')\n",
        "print(f'Label is {y_train_labels[ind]}')"
      ]
    },
    {
      "cell_type": "code",
      "execution_count": null,
      "id": "animated-crack",
      "metadata": {
        "colab": {
          "base_uri": "https://localhost:8080/"
        },
        "id": "animated-crack",
        "outputId": "ebf5fc3b-c060-45cc-faa4-783cc8db1555"
      },
      "outputs": [
        {
          "data": {
            "text/plain": [
              "(0, 255)"
            ]
          },
          "execution_count": 9,
          "metadata": {},
          "output_type": "execute_result"
        }
      ],
      "source": [
        "X_train.min(), X_train.max()"
      ]
    },
    {
      "cell_type": "code",
      "execution_count": null,
      "id": "likely-crisis",
      "metadata": {
        "colab": {
          "base_uri": "https://localhost:8080/"
        },
        "id": "likely-crisis",
        "outputId": "0ca4fb4d-651d-4998-bb09-c27f0abedb9f"
      },
      "outputs": [
        {
          "data": {
            "text/plain": [
              "(0.0, 1.0)"
            ]
          },
          "execution_count": 10,
          "metadata": {},
          "output_type": "execute_result"
        }
      ],
      "source": [
        "# Нормировка\n",
        "X_train = X_train / 255.0\n",
        "X_test = X_test / 255.0\n",
        "X_train.min(), X_train.max()"
      ]
    },
    {
      "cell_type": "code",
      "execution_count": null,
      "id": "artistic-oklahoma",
      "metadata": {
        "colab": {
          "base_uri": "https://localhost:8080/"
        },
        "id": "artistic-oklahoma",
        "outputId": "510152f3-7ba1-401d-b530-99005ffbc7c4"
      },
      "outputs": [
        {
          "data": {
            "text/plain": [
              "((60000, 784), (10000, 784))"
            ]
          },
          "execution_count": 11,
          "metadata": {},
          "output_type": "execute_result"
        }
      ],
      "source": [
        "# Вытягивание признаков\n",
        "X_train = X_train.reshape((-1, 28 * 28))\n",
        "X_test = X_test.reshape((-1, 28 * 28))\n",
        "\n",
        "X_train.shape, X_test.shape"
      ]
    },
    {
      "cell_type": "code",
      "execution_count": null,
      "id": "particular-durham",
      "metadata": {
        "colab": {
          "base_uri": "https://localhost:8080/"
        },
        "id": "particular-durham",
        "outputId": "63c2a23e-ed3b-4088-c741-a844dd664d24"
      },
      "outputs": [
        {
          "data": {
            "text/plain": [
              "array([9, 0, 0, 3, 0], dtype=uint8)"
            ]
          },
          "execution_count": 12,
          "metadata": {},
          "output_type": "execute_result"
        }
      ],
      "source": [
        "y_train_labels[:5]"
      ]
    },
    {
      "cell_type": "code",
      "execution_count": null,
      "id": "illegal-nurse",
      "metadata": {
        "colab": {
          "base_uri": "https://localhost:8080/"
        },
        "id": "illegal-nurse",
        "outputId": "a35de9b1-e1ba-47c8-ce7c-98178078ce55"
      },
      "outputs": [
        {
          "data": {
            "text/plain": [
              "array([[0., 0., 0., 0., 0., 0., 0., 0., 0., 1.],\n",
              "       [1., 0., 0., 0., 0., 0., 0., 0., 0., 0.],\n",
              "       [1., 0., 0., 0., 0., 0., 0., 0., 0., 0.],\n",
              "       [0., 0., 0., 1., 0., 0., 0., 0., 0., 0.],\n",
              "       [1., 0., 0., 0., 0., 0., 0., 0., 0., 0.]], dtype=float32)"
            ]
          },
          "execution_count": 13,
          "metadata": {},
          "output_type": "execute_result"
        }
      ],
      "source": [
        "y_train = to_categorical(y_train_labels)\n",
        "y_test = to_categorical(y_test_labels)\n",
        "\n",
        "y_train[:5]"
      ]
    },
    {
      "cell_type": "markdown",
      "id": "empty-endorsement",
      "metadata": {
        "id": "empty-endorsement"
      },
      "source": [
        "Проверим качество в зависимости от числа нейронов в слое (для 2-х слойной сети)."
      ]
    },
    {
      "cell_type": "code",
      "execution_count": null,
      "id": "formed-colon",
      "metadata": {
        "colab": {
          "base_uri": "https://localhost:8080/"
        },
        "id": "formed-colon",
        "outputId": "24681981-c23a-4eba-9b17-aa0c96472cb4"
      },
      "outputs": [
        {
          "name": "stdout",
          "output_type": "stream",
          "text": [
            "Model: \"sequential\"\n",
            "_________________________________________________________________\n",
            " Layer (type)                Output Shape              Param #   \n",
            "=================================================================\n",
            " dense (Dense)               (None, 64)                50240     \n",
            "                                                                 \n",
            " dense_1 (Dense)             (None, 1)                 65        \n",
            "                                                                 \n",
            " dense_2 (Dense)             (None, 10)                20        \n",
            "                                                                 \n",
            "=================================================================\n",
            "Total params: 50,325\n",
            "Trainable params: 50,325\n",
            "Non-trainable params: 0\n",
            "_________________________________________________________________\n",
            "Epoch 1/5\n",
            "938/938 [==============================] - 3s 3ms/step - loss: 2.0994 - accuracy: 0.1847 - val_loss: 1.9631 - val_accuracy: 0.2122\n",
            "Epoch 2/5\n",
            "938/938 [==============================] - 3s 3ms/step - loss: 1.8980 - accuracy: 0.2217 - val_loss: 1.8610 - val_accuracy: 0.2288\n",
            "Epoch 3/5\n",
            "938/938 [==============================] - 2s 3ms/step - loss: 1.8204 - accuracy: 0.2434 - val_loss: 1.7997 - val_accuracy: 0.2612\n",
            "Epoch 4/5\n",
            "938/938 [==============================] - 3s 3ms/step - loss: 1.7314 - accuracy: 0.2872 - val_loss: 1.6797 - val_accuracy: 0.3030\n",
            "Epoch 5/5\n",
            "938/938 [==============================] - 2s 3ms/step - loss: 1.6329 - accuracy: 0.3120 - val_loss: 1.6072 - val_accuracy: 0.3050\n",
            "938/938 [==============================] - 2s 2ms/step - loss: 1.5997 - accuracy: 0.3059\n",
            "157/157 [==============================] - 0s 2ms/step - loss: 1.6072 - accuracy: 0.3050\n",
            "Model: \"sequential_1\"\n",
            "_________________________________________________________________\n",
            " Layer (type)                Output Shape              Param #   \n",
            "=================================================================\n",
            " dense_3 (Dense)             (None, 64)                50240     \n",
            "                                                                 \n",
            " dense_4 (Dense)             (None, 2)                 130       \n",
            "                                                                 \n",
            " dense_5 (Dense)             (None, 10)                30        \n",
            "                                                                 \n",
            "=================================================================\n",
            "Total params: 50,400\n",
            "Trainable params: 50,400\n",
            "Non-trainable params: 0\n",
            "_________________________________________________________________\n",
            "Epoch 1/5\n",
            "938/938 [==============================] - 3s 3ms/step - loss: 1.8897 - accuracy: 0.2685 - val_loss: 1.7082 - val_accuracy: 0.2987\n",
            "Epoch 2/5\n",
            "938/938 [==============================] - 3s 3ms/step - loss: 1.6062 - accuracy: 0.3300 - val_loss: 1.5030 - val_accuracy: 0.3858\n",
            "Epoch 3/5\n",
            "938/938 [==============================] - 3s 3ms/step - loss: 1.4164 - accuracy: 0.4092 - val_loss: 1.3690 - val_accuracy: 0.4203\n",
            "Epoch 4/5\n",
            "938/938 [==============================] - 3s 3ms/step - loss: 1.3158 - accuracy: 0.4434 - val_loss: 1.2847 - val_accuracy: 0.4585\n",
            "Epoch 5/5\n",
            "938/938 [==============================] - 3s 4ms/step - loss: 1.2322 - accuracy: 0.4772 - val_loss: 1.2082 - val_accuracy: 0.4942\n",
            "938/938 [==============================] - 2s 2ms/step - loss: 1.1975 - accuracy: 0.4936\n",
            "157/157 [==============================] - 0s 2ms/step - loss: 1.2082 - accuracy: 0.4942\n",
            "Model: \"sequential_2\"\n",
            "_________________________________________________________________\n",
            " Layer (type)                Output Shape              Param #   \n",
            "=================================================================\n",
            " dense_6 (Dense)             (None, 64)                50240     \n",
            "                                                                 \n",
            " dense_7 (Dense)             (None, 4)                 260       \n",
            "                                                                 \n",
            " dense_8 (Dense)             (None, 10)                50        \n",
            "                                                                 \n",
            "=================================================================\n",
            "Total params: 50,550\n",
            "Trainable params: 50,550\n",
            "Non-trainable params: 0\n",
            "_________________________________________________________________\n",
            "Epoch 1/5\n",
            "938/938 [==============================] - 4s 4ms/step - loss: 1.7123 - accuracy: 0.3537 - val_loss: 1.1871 - val_accuracy: 0.5271\n",
            "Epoch 2/5\n",
            "938/938 [==============================] - 3s 3ms/step - loss: 0.9469 - accuracy: 0.6637 - val_loss: 0.8186 - val_accuracy: 0.7189\n",
            "Epoch 3/5\n",
            "938/938 [==============================] - 3s 3ms/step - loss: 0.7588 - accuracy: 0.7476 - val_loss: 0.7587 - val_accuracy: 0.7346\n",
            "Epoch 4/5\n",
            "938/938 [==============================] - 3s 3ms/step - loss: 0.6865 - accuracy: 0.7710 - val_loss: 0.6791 - val_accuracy: 0.7705\n",
            "Epoch 5/5\n",
            "938/938 [==============================] - 3s 3ms/step - loss: 0.6427 - accuracy: 0.7834 - val_loss: 0.6556 - val_accuracy: 0.7703\n",
            "938/938 [==============================] - 2s 2ms/step - loss: 0.6287 - accuracy: 0.7843\n",
            "157/157 [==============================] - 0s 2ms/step - loss: 0.6556 - accuracy: 0.7703\n",
            "Model: \"sequential_3\"\n",
            "_________________________________________________________________\n",
            " Layer (type)                Output Shape              Param #   \n",
            "=================================================================\n",
            " dense_9 (Dense)             (None, 64)                50240     \n",
            "                                                                 \n",
            " dense_10 (Dense)            (None, 8)                 520       \n",
            "                                                                 \n",
            " dense_11 (Dense)            (None, 10)                90        \n",
            "                                                                 \n",
            "=================================================================\n",
            "Total params: 50,850\n",
            "Trainable params: 50,850\n",
            "Non-trainable params: 0\n",
            "_________________________________________________________________\n",
            "Epoch 1/5\n",
            "938/938 [==============================] - 4s 3ms/step - loss: 1.5830 - accuracy: 0.4278 - val_loss: 0.9435 - val_accuracy: 0.7011\n",
            "Epoch 2/5\n",
            "938/938 [==============================] - 3s 3ms/step - loss: 0.7370 - accuracy: 0.7561 - val_loss: 0.6417 - val_accuracy: 0.7776\n",
            "Epoch 3/5\n",
            "938/938 [==============================] - 3s 3ms/step - loss: 0.5857 - accuracy: 0.7991 - val_loss: 0.6116 - val_accuracy: 0.7816\n",
            "Epoch 4/5\n",
            "938/938 [==============================] - 3s 3ms/step - loss: 0.5340 - accuracy: 0.8151 - val_loss: 0.5452 - val_accuracy: 0.8077\n",
            "Epoch 5/5\n",
            "938/938 [==============================] - 5s 5ms/step - loss: 0.5026 - accuracy: 0.8244 - val_loss: 0.5049 - val_accuracy: 0.8224\n",
            "938/938 [==============================] - 5s 6ms/step - loss: 0.4782 - accuracy: 0.8326\n",
            "157/157 [==============================] - 1s 4ms/step - loss: 0.5049 - accuracy: 0.8224\n",
            "Model: \"sequential_4\"\n",
            "_________________________________________________________________\n",
            " Layer (type)                Output Shape              Param #   \n",
            "=================================================================\n",
            " dense_12 (Dense)            (None, 64)                50240     \n",
            "                                                                 \n",
            " dense_13 (Dense)            (None, 16)                1040      \n",
            "                                                                 \n",
            " dense_14 (Dense)            (None, 10)                170       \n",
            "                                                                 \n",
            "=================================================================\n",
            "Total params: 51,450\n",
            "Trainable params: 51,450\n",
            "Non-trainable params: 0\n",
            "_________________________________________________________________\n",
            "Epoch 1/5\n",
            "938/938 [==============================] - 7s 7ms/step - loss: 0.9999 - accuracy: 0.6574 - val_loss: 0.6896 - val_accuracy: 0.7653\n",
            "Epoch 2/5\n",
            "938/938 [==============================] - 6s 6ms/step - loss: 0.6002 - accuracy: 0.7978 - val_loss: 0.5747 - val_accuracy: 0.8010\n",
            "Epoch 3/5\n",
            "938/938 [==============================] - 5s 6ms/step - loss: 0.5272 - accuracy: 0.8189 - val_loss: 0.5808 - val_accuracy: 0.7919\n",
            "Epoch 4/5\n",
            "938/938 [==============================] - 4s 4ms/step - loss: 0.4916 - accuracy: 0.8297 - val_loss: 0.5117 - val_accuracy: 0.8198\n",
            "Epoch 5/5\n",
            "938/938 [==============================] - 3s 3ms/step - loss: 0.4677 - accuracy: 0.8378 - val_loss: 0.4860 - val_accuracy: 0.8289\n",
            "938/938 [==============================] - 2s 2ms/step - loss: 0.4530 - accuracy: 0.8415\n",
            "157/157 [==============================] - 0s 2ms/step - loss: 0.4860 - accuracy: 0.8289\n",
            "Model: \"sequential_5\"\n",
            "_________________________________________________________________\n",
            " Layer (type)                Output Shape              Param #   \n",
            "=================================================================\n",
            " dense_15 (Dense)            (None, 64)                50240     \n",
            "                                                                 \n",
            " dense_16 (Dense)            (None, 32)                2080      \n",
            "                                                                 \n",
            " dense_17 (Dense)            (None, 10)                330       \n",
            "                                                                 \n",
            "=================================================================\n",
            "Total params: 52,650\n",
            "Trainable params: 52,650\n",
            "Non-trainable params: 0\n",
            "_________________________________________________________________\n",
            "Epoch 1/5\n",
            "938/938 [==============================] - 3s 3ms/step - loss: 1.0153 - accuracy: 0.6805 - val_loss: 0.6830 - val_accuracy: 0.7600\n",
            "Epoch 2/5\n",
            "938/938 [==============================] - 3s 3ms/step - loss: 0.5911 - accuracy: 0.7992 - val_loss: 0.5690 - val_accuracy: 0.8044\n",
            "Epoch 3/5\n",
            "938/938 [==============================] - 3s 3ms/step - loss: 0.5202 - accuracy: 0.8223 - val_loss: 0.5722 - val_accuracy: 0.7939\n",
            "Epoch 4/5\n",
            "938/938 [==============================] - 3s 3ms/step - loss: 0.4861 - accuracy: 0.8324 - val_loss: 0.5053 - val_accuracy: 0.8225\n",
            "Epoch 5/5\n",
            "938/938 [==============================] - 3s 3ms/step - loss: 0.4637 - accuracy: 0.8391 - val_loss: 0.4876 - val_accuracy: 0.8280\n",
            "938/938 [==============================] - 2s 2ms/step - loss: 0.4507 - accuracy: 0.8419\n",
            "157/157 [==============================] - 0s 2ms/step - loss: 0.4876 - accuracy: 0.8280\n",
            "Model: \"sequential_6\"\n",
            "_________________________________________________________________\n",
            " Layer (type)                Output Shape              Param #   \n",
            "=================================================================\n",
            " dense_18 (Dense)            (None, 64)                50240     \n",
            "                                                                 \n",
            " dense_19 (Dense)            (None, 64)                4160      \n",
            "                                                                 \n",
            " dense_20 (Dense)            (None, 10)                650       \n",
            "                                                                 \n",
            "=================================================================\n",
            "Total params: 55,050\n",
            "Trainable params: 55,050\n",
            "Non-trainable params: 0\n",
            "_________________________________________________________________\n",
            "Epoch 1/5\n",
            "938/938 [==============================] - 3s 3ms/step - loss: 0.9287 - accuracy: 0.6923 - val_loss: 0.6601 - val_accuracy: 0.7704\n",
            "Epoch 2/5\n",
            "938/938 [==============================] - 3s 3ms/step - loss: 0.5754 - accuracy: 0.8048 - val_loss: 0.5599 - val_accuracy: 0.8042\n",
            "Epoch 3/5\n",
            "938/938 [==============================] - 3s 3ms/step - loss: 0.5124 - accuracy: 0.8235 - val_loss: 0.5597 - val_accuracy: 0.7978\n",
            "Epoch 4/5\n",
            "938/938 [==============================] - 3s 3ms/step - loss: 0.4805 - accuracy: 0.8333 - val_loss: 0.5071 - val_accuracy: 0.8208\n",
            "Epoch 5/5\n",
            "938/938 [==============================] - 3s 3ms/step - loss: 0.4587 - accuracy: 0.8399 - val_loss: 0.4780 - val_accuracy: 0.8317\n",
            "938/938 [==============================] - 2s 2ms/step - loss: 0.4425 - accuracy: 0.8455\n",
            "157/157 [==============================] - 0s 2ms/step - loss: 0.4780 - accuracy: 0.8317\n",
            "Model: \"sequential_7\"\n",
            "_________________________________________________________________\n",
            " Layer (type)                Output Shape              Param #   \n",
            "=================================================================\n",
            " dense_21 (Dense)            (None, 64)                50240     \n",
            "                                                                 \n",
            " dense_22 (Dense)            (None, 128)               8320      \n",
            "                                                                 \n",
            " dense_23 (Dense)            (None, 10)                1290      \n",
            "                                                                 \n",
            "=================================================================\n",
            "Total params: 59,850\n",
            "Trainable params: 59,850\n",
            "Non-trainable params: 0\n",
            "_________________________________________________________________\n",
            "Epoch 1/5\n",
            "938/938 [==============================] - 4s 4ms/step - loss: 0.9430 - accuracy: 0.7018 - val_loss: 0.6682 - val_accuracy: 0.7680\n",
            "Epoch 2/5\n",
            "938/938 [==============================] - 3s 3ms/step - loss: 0.5811 - accuracy: 0.8036 - val_loss: 0.5558 - val_accuracy: 0.8061\n",
            "Epoch 3/5\n",
            "938/938 [==============================] - 3s 3ms/step - loss: 0.5106 - accuracy: 0.8244 - val_loss: 0.5544 - val_accuracy: 0.8032\n",
            "Epoch 4/5\n",
            "938/938 [==============================] - 3s 3ms/step - loss: 0.4762 - accuracy: 0.8353 - val_loss: 0.4932 - val_accuracy: 0.8275\n",
            "Epoch 5/5\n",
            "938/938 [==============================] - 3s 3ms/step - loss: 0.4540 - accuracy: 0.8418 - val_loss: 0.4739 - val_accuracy: 0.8312\n",
            "938/938 [==============================] - 2s 2ms/step - loss: 0.4413 - accuracy: 0.8450\n",
            "157/157 [==============================] - 0s 2ms/step - loss: 0.4739 - accuracy: 0.8312\n",
            "Model: \"sequential_8\"\n",
            "_________________________________________________________________\n",
            " Layer (type)                Output Shape              Param #   \n",
            "=================================================================\n",
            " dense_24 (Dense)            (None, 64)                50240     \n",
            "                                                                 \n",
            " dense_25 (Dense)            (None, 256)               16640     \n",
            "                                                                 \n",
            " dense_26 (Dense)            (None, 10)                2570      \n",
            "                                                                 \n",
            "=================================================================\n",
            "Total params: 69,450\n",
            "Trainable params: 69,450\n",
            "Non-trainable params: 0\n",
            "_________________________________________________________________\n",
            "Epoch 1/5\n",
            "938/938 [==============================] - 4s 3ms/step - loss: 0.9860 - accuracy: 0.6850 - val_loss: 0.6737 - val_accuracy: 0.7646\n",
            "Epoch 2/5\n",
            "938/938 [==============================] - 3s 3ms/step - loss: 0.5842 - accuracy: 0.7998 - val_loss: 0.5582 - val_accuracy: 0.8076\n",
            "Epoch 3/5\n",
            "938/938 [==============================] - 3s 3ms/step - loss: 0.5138 - accuracy: 0.8225 - val_loss: 0.5605 - val_accuracy: 0.7999\n",
            "Epoch 4/5\n",
            "938/938 [==============================] - 4s 5ms/step - loss: 0.4799 - accuracy: 0.8348 - val_loss: 0.4987 - val_accuracy: 0.8256\n",
            "Epoch 5/5\n",
            "938/938 [==============================] - 3s 3ms/step - loss: 0.4577 - accuracy: 0.8405 - val_loss: 0.4748 - val_accuracy: 0.8350\n",
            "938/938 [==============================] - 2s 2ms/step - loss: 0.4417 - accuracy: 0.8460\n",
            "157/157 [==============================] - 0s 2ms/step - loss: 0.4748 - accuracy: 0.8350\n",
            "Model: \"sequential_9\"\n",
            "_________________________________________________________________\n",
            " Layer (type)                Output Shape              Param #   \n",
            "=================================================================\n",
            " dense_27 (Dense)            (None, 64)                50240     \n",
            "                                                                 \n",
            " dense_28 (Dense)            (None, 512)               33280     \n",
            "                                                                 \n",
            " dense_29 (Dense)            (None, 10)                5130      \n",
            "                                                                 \n",
            "=================================================================\n",
            "Total params: 88,650\n",
            "Trainable params: 88,650\n",
            "Non-trainable params: 0\n",
            "_________________________________________________________________\n",
            "Epoch 1/5\n",
            "938/938 [==============================] - 4s 4ms/step - loss: 1.0590 - accuracy: 0.6553 - val_loss: 0.7030 - val_accuracy: 0.7479\n",
            "Epoch 2/5\n",
            "938/938 [==============================] - 3s 4ms/step - loss: 0.5979 - accuracy: 0.7948 - val_loss: 0.5744 - val_accuracy: 0.8014\n",
            "Epoch 3/5\n",
            "938/938 [==============================] - 4s 4ms/step - loss: 0.5240 - accuracy: 0.8195 - val_loss: 0.5700 - val_accuracy: 0.7942\n",
            "Epoch 4/5\n",
            "938/938 [==============================] - 4s 4ms/step - loss: 0.4893 - accuracy: 0.8302 - val_loss: 0.5146 - val_accuracy: 0.8189\n",
            "Epoch 5/5\n",
            "938/938 [==============================] - 4s 4ms/step - loss: 0.4667 - accuracy: 0.8370 - val_loss: 0.4839 - val_accuracy: 0.8293\n",
            "938/938 [==============================] - 2s 2ms/step - loss: 0.4487 - accuracy: 0.8440\n",
            "157/157 [==============================] - 0s 2ms/step - loss: 0.4839 - accuracy: 0.8293\n",
            "CPU times: user 3min 23s, sys: 15 s, total: 3min 38s\n",
            "Wall time: 3min 47s\n"
          ]
        }
      ],
      "source": [
        "%%time\n",
        "results_num = pd.DataFrame()\n",
        "n_nums = []\n",
        "train_losses = []\n",
        "test_losses = []\n",
        "train_metrics = []\n",
        "test_metrics = []\n",
        "\n",
        "\n",
        "for n_num in list(map(lambda x: 2**x, range(0,10))):\n",
        "    \n",
        "    n_nums.append(n_num)\n",
        "    \n",
        "    model = Sequential([\n",
        "        Dense(64, input_shape=(28 * 28,), activation='relu'),\n",
        "        Dense(n_num, activation='relu'),\n",
        "        Dense(10, activation='sigmoid')\n",
        "    ])\n",
        "\n",
        "    model.summary()\n",
        "    \n",
        "    model.compile(loss='categorical_crossentropy', optimizer='SGD', metrics=['accuracy'])\n",
        "    \n",
        "    history = model.fit(X_train, y_train,\n",
        "                    epochs=5,\n",
        "                    batch_size=64,\n",
        "                    verbose=1,\n",
        "                    validation_data=(X_test, y_test)\n",
        "                    )\n",
        "    train_acc = history.history['accuracy']\n",
        "    val_acc = history.history['val_accuracy']\n",
        "    \n",
        "    train_loss, train_metric = model.evaluate(X_train, y_train, batch_size=64)\n",
        "    train_losses.append(train_loss)\n",
        "    train_metrics.append(train_metric)\n",
        "    test_loss, test_metric = model.evaluate(X_test, y_test, batch_size=64)\n",
        "    test_losses.append(test_loss)\n",
        "    test_metrics.append(test_metric)\n",
        "    \n",
        "    \n",
        "results_num['n_num'] = n_nums\n",
        "results_num['train_loss'] = train_losses\n",
        "results_num['test_loss'] = test_losses\n",
        "results_num['train_metric'] = train_metrics\n",
        "results_num['test_metric'] = test_metrics\n",
        "results_num.sort_values(by='test_metric', ascending=False)"
      ]
    },
    {
      "cell_type": "code",
      "execution_count": null,
      "id": "killing-consciousness",
      "metadata": {
        "colab": {
          "base_uri": "https://localhost:8080/",
          "height": 651
        },
        "id": "killing-consciousness",
        "outputId": "84b6f676-43bb-4808-961d-fe72bcf6dc22"
      },
      "outputs": [
        {
          "data": {
            "image/png": "[encoded data removed]",
            "text/plain": [
              "<Figure size 1152x360 with 1 Axes>"
            ]
          },
          "metadata": {
            "needs_background": "light"
          },
          "output_type": "display_data"
        },
        {
          "data": {
            "image/png": "[encoded data removed]",
            "text/plain": [
              "<Figure size 1152x360 with 1 Axes>"
            ]
          },
          "metadata": {
            "needs_background": "light"
          },
          "output_type": "display_data"
        }
      ],
      "source": [
        "\n",
        "plt.figure(figsize=(16, 5))\n",
        "plt.plot(results_num['n_num'],results_num['train_loss'], label='train')\n",
        "plt.plot(results_num['n_num'],results_num['test_loss'], label='test')\n",
        "plt.xlabel('Обучение')\n",
        "plt.ylabel('Ошибка')\n",
        "plt.show()\n",
        "\n",
        "plt.figure(figsize=(16, 5))\n",
        "plt.plot(results_num['n_num'],results_num['train_metric'], label='train')\n",
        "plt.plot(results_num['n_num'],results_num['test_metric'], label='test')\n",
        "plt.xlabel('Число нейронов скрытого слоя')\n",
        "plt.ylabel('Accuracy')\n",
        "plt.show()"
      ]
    },
    {
      "cell_type": "code",
      "execution_count": null,
      "id": "colored-treasurer",
      "metadata": {
        "colab": {
          "base_uri": "https://localhost:8080/"
        },
        "id": "colored-treasurer",
        "outputId": "432409b3-dbc3-48d7-8a39-44a61f9f9c0a"
      },
      "outputs": [
        {
          "name": "stdout",
          "output_type": "stream",
          "text": [
            "Model: \"sequential_10\"\n",
            "_________________________________________________________________\n",
            " Layer (type)                Output Shape              Param #   \n",
            "=================================================================\n",
            " dense_30 (Dense)            (None, 64)                50240     \n",
            "                                                                 \n",
            " dense_31 (Dense)            (None, 128)               8320      \n",
            "                                                                 \n",
            " dense_32 (Dense)            (None, 10)                1290      \n",
            "                                                                 \n",
            "=================================================================\n",
            "Total params: 59,850\n",
            "Trainable params: 59,850\n",
            "Non-trainable params: 0\n",
            "_________________________________________________________________\n",
            "Epoch 1/5\n",
            "938/938 [==============================] - 4s 3ms/step - loss: 0.9748 - accuracy: 0.6783 - val_loss: 0.6832 - val_accuracy: 0.7569\n",
            "Epoch 2/5\n",
            "938/938 [==============================] - 3s 3ms/step - loss: 0.5886 - accuracy: 0.7993 - val_loss: 0.5675 - val_accuracy: 0.8016\n",
            "Epoch 3/5\n",
            "938/938 [==============================] - 3s 3ms/step - loss: 0.5176 - accuracy: 0.8217 - val_loss: 0.5576 - val_accuracy: 0.7999\n",
            "Epoch 4/5\n",
            "938/938 [==============================] - 3s 3ms/step - loss: 0.4840 - accuracy: 0.8327 - val_loss: 0.5135 - val_accuracy: 0.8174\n",
            "Epoch 5/5\n",
            "938/938 [==============================] - 3s 3ms/step - loss: 0.4611 - accuracy: 0.8401 - val_loss: 0.4830 - val_accuracy: 0.8293\n",
            "938/938 [==============================] - 2s 2ms/step - loss: 0.4460 - accuracy: 0.8445\n",
            "157/157 [==============================] - 0s 2ms/step - loss: 0.4830 - accuracy: 0.8293\n",
            "Model: \"sequential_11\"\n",
            "_________________________________________________________________\n",
            " Layer (type)                Output Shape              Param #   \n",
            "=================================================================\n",
            " dense_33 (Dense)            (None, 64)                50240     \n",
            "                                                                 \n",
            " dense_34 (Dense)            (None, 67)                4355      \n",
            "                                                                 \n",
            " dense_35 (Dense)            (None, 67)                4556      \n",
            "                                                                 \n",
            " dense_36 (Dense)            (None, 10)                680       \n",
            "                                                                 \n",
            "=================================================================\n",
            "Total params: 59,831\n",
            "Trainable params: 59,831\n",
            "Non-trainable params: 0\n",
            "_________________________________________________________________\n",
            "Epoch 1/5\n",
            "938/938 [==============================] - 4s 3ms/step - loss: 1.0106 - accuracy: 0.6575 - val_loss: 0.6899 - val_accuracy: 0.7628\n",
            "Epoch 2/5\n",
            "938/938 [==============================] - 3s 3ms/step - loss: 0.5851 - accuracy: 0.7985 - val_loss: 0.5590 - val_accuracy: 0.8094\n",
            "Epoch 3/5\n",
            "938/938 [==============================] - 3s 3ms/step - loss: 0.5079 - accuracy: 0.8222 - val_loss: 0.5936 - val_accuracy: 0.7840\n",
            "Epoch 4/5\n",
            "938/938 [==============================] - 3s 3ms/step - loss: 0.4706 - accuracy: 0.8343 - val_loss: 0.5060 - val_accuracy: 0.8196\n",
            "Epoch 5/5\n",
            "938/938 [==============================] - 3s 3ms/step - loss: 0.4454 - accuracy: 0.8428 - val_loss: 0.4732 - val_accuracy: 0.8298\n",
            "938/938 [==============================] - 2s 2ms/step - loss: 0.4344 - accuracy: 0.8465\n",
            "157/157 [==============================] - 0s 2ms/step - loss: 0.4732 - accuracy: 0.8298\n",
            "Model: \"sequential_12\"\n",
            "_________________________________________________________________\n",
            " Layer (type)                Output Shape              Param #   \n",
            "=================================================================\n",
            " dense_37 (Dense)            (None, 64)                50240     \n",
            "                                                                 \n",
            " dense_38 (Dense)            (None, 45)                2925      \n",
            "                                                                 \n",
            " dense_39 (Dense)            (None, 45)                2070      \n",
            "                                                                 \n",
            " dense_40 (Dense)            (None, 45)                2070      \n",
            "                                                                 \n",
            " dense_41 (Dense)            (None, 45)                2070      \n",
            "                                                                 \n",
            " dense_42 (Dense)            (None, 10)                460       \n",
            "                                                                 \n",
            "=================================================================\n",
            "Total params: 59,835\n",
            "Trainable params: 59,835\n",
            "Non-trainable params: 0\n",
            "_________________________________________________________________\n",
            "Epoch 1/5\n",
            "938/938 [==============================] - 3s 3ms/step - loss: 1.1537 - accuracy: 0.5782 - val_loss: 0.7604 - val_accuracy: 0.7289\n",
            "Epoch 2/5\n",
            "938/938 [==============================] - 3s 3ms/step - loss: 0.6262 - accuracy: 0.7764 - val_loss: 0.5691 - val_accuracy: 0.8016\n",
            "Epoch 3/5\n",
            "938/938 [==============================] - 3s 3ms/step - loss: 0.5335 - accuracy: 0.8109 - val_loss: 0.5853 - val_accuracy: 0.7925\n",
            "Epoch 4/5\n",
            "938/938 [==============================] - 3s 3ms/step - loss: 0.4885 - accuracy: 0.8288 - val_loss: 0.5150 - val_accuracy: 0.8206\n",
            "Epoch 5/5\n",
            "938/938 [==============================] - 3s 3ms/step - loss: 0.4564 - accuracy: 0.8387 - val_loss: 0.4768 - val_accuracy: 0.8332\n",
            "938/938 [==============================] - 2s 2ms/step - loss: 0.4385 - accuracy: 0.8438\n",
            "157/157 [==============================] - 0s 2ms/step - loss: 0.4768 - accuracy: 0.8332\n",
            "Model: \"sequential_13\"\n",
            "_________________________________________________________________\n",
            " Layer (type)                Output Shape              Param #   \n",
            "=================================================================\n",
            " dense_43 (Dense)            (None, 64)                50240     \n",
            "                                                                 \n",
            " dense_44 (Dense)            (None, 30)                1950      \n",
            "                                                                 \n",
            " dense_45 (Dense)            (None, 30)                930       \n",
            "                                                                 \n",
            " dense_46 (Dense)            (None, 30)                930       \n",
            "                                                                 \n",
            " dense_47 (Dense)            (None, 30)                930       \n",
            "                                                                 \n",
            " dense_48 (Dense)            (None, 30)                930       \n",
            "                                                                 \n",
            " dense_49 (Dense)            (None, 30)                930       \n",
            "                                                                 \n",
            " dense_50 (Dense)            (None, 30)                930       \n",
            "                                                                 \n",
            " dense_51 (Dense)            (None, 30)                930       \n",
            "                                                                 \n",
            " dense_52 (Dense)            (None, 30)                930       \n",
            "                                                                 \n",
            " dense_53 (Dense)            (None, 10)                310       \n",
            "                                                                 \n",
            "=================================================================\n",
            "Total params: 59,940\n",
            "Trainable params: 59,940\n",
            "Non-trainable params: 0\n",
            "_________________________________________________________________\n",
            "Epoch 1/5\n",
            "938/938 [==============================] - 4s 4ms/step - loss: 1.7461 - accuracy: 0.3510 - val_loss: 1.0227 - val_accuracy: 0.5705\n",
            "Epoch 2/5\n",
            "938/938 [==============================] - 4s 4ms/step - loss: 0.9041 - accuracy: 0.6488 - val_loss: 0.8302 - val_accuracy: 0.6869\n",
            "Epoch 3/5\n",
            "938/938 [==============================] - 3s 4ms/step - loss: 0.7354 - accuracy: 0.7266 - val_loss: 0.7155 - val_accuracy: 0.7246\n",
            "Epoch 4/5\n",
            "938/938 [==============================] - 3s 4ms/step - loss: 0.6299 - accuracy: 0.7667 - val_loss: 0.6879 - val_accuracy: 0.7365\n",
            "Epoch 5/5\n",
            "938/938 [==============================] - 3s 4ms/step - loss: 0.5556 - accuracy: 0.7931 - val_loss: 0.5650 - val_accuracy: 0.7842\n",
            "938/938 [==============================] - 2s 2ms/step - loss: 0.5345 - accuracy: 0.7961\n",
            "157/157 [==============================] - 0s 3ms/step - loss: 0.5650 - accuracy: 0.7842\n",
            "CPU times: user 1min 25s, sys: 5.79 s, total: 1min 31s\n",
            "Wall time: 1min 35s\n"
          ]
        }
      ],
      "source": [
        "%%time\n",
        "results_layers = pd.DataFrame()\n",
        "n_nums = [] \n",
        "n_layers = []\n",
        "n_pars = [] \n",
        "train_losses = [] \n",
        "test_losses = [] \n",
        "train_metrics = [] \n",
        "test_metrics = [] \n",
        "\n",
        "k_dict = {2:128, 3:67, 5:45, 10:30}\n",
        "for n in [2, 3, 5, 10]:\n",
        "    \n",
        "    k = k_dict[n]\n",
        "    net_size = 64 * 785 + 65 * k + (n - 2) * (k + 1) * k + (k + 1) * 10\n",
        "    n_nums.append(k) \n",
        "    n_pars.append(net_size)\n",
        "    n_layers.append(n)\n",
        "    \n",
        "    model = Sequential()\n",
        "    model.add(Dense(64, input_shape=(28 * 28,), activation='relu'))\n",
        "    for i in range(n-1):\n",
        "        model.add(Dense(k, activation='relu'))\n",
        "    model.add(Dense(10, activation='sigmoid'))\n",
        "\n",
        "    model.summary()\n",
        "    \n",
        "    model.compile(loss='categorical_crossentropy', optimizer='SGD', metrics=['accuracy'])\n",
        "    \n",
        "    history = model.fit(X_train, y_train,\n",
        "                    epochs=5,\n",
        "                    batch_size=64,\n",
        "                    verbose=1,\n",
        "                    validation_data=(X_test, y_test)\n",
        "                    )\n",
        "    train_acc = history.history['accuracy']\n",
        "    val_acc = history.history['val_accuracy']\n",
        "    \n",
        "    train_loss, train_metric = model.evaluate(X_train, y_train, batch_size=64)\n",
        "    train_losses.append(train_loss)\n",
        "    train_metrics.append(train_metric)\n",
        "    test_loss, test_metric = model.evaluate(X_test, y_test, batch_size=64)\n",
        "    test_losses.append(test_loss)\n",
        "    test_metrics.append(test_metric)\n",
        "    \n",
        "    \n",
        "results_layers['n_layer'] = n_layers\n",
        "results_layers['n_num'] = n_nums\n",
        "results_layers['n_par'] = n_pars\n",
        "results_layers['train_loss'] = train_losses\n",
        "results_layers['test_loss'] = test_losses\n",
        "results_layers['train_metric'] = train_metrics\n",
        "results_layers['test_metric'] = test_metrics\n",
        "results_layers.sort_values(by='test_metric', ascending=False)"
      ]
    },
    {
      "cell_type": "code",
      "execution_count": null,
      "id": "appointed-syntax",
      "metadata": {
        "colab": {
          "base_uri": "https://localhost:8080/",
          "height": 651
        },
        "id": "appointed-syntax",
        "outputId": "6b5f0766-e413-40b0-9761-bfdc2aec6d00"
      },
      "outputs": [
        {
          "data": {
            "image/png": "[encoded data removed]",
            "text/plain": [
              "<Figure size 1152x360 with 1 Axes>"
            ]
          },
          "metadata": {
            "needs_background": "light"
          },
          "output_type": "display_data"
        },
        {
          "data": {
            "image/png": "[encoded data removed]",
            "text/plain": [
              "<Figure size 1152x360 with 1 Axes>"
            ]
          },
          "metadata": {
            "needs_background": "light"
          },
          "output_type": "display_data"
        }
      ],
      "source": [
        "\n",
        "plt.figure(figsize=(16, 5))\n",
        "plt.plot(results_layers['n_layer'],results_layers['train_loss'], label='train')\n",
        "plt.plot(results_layers['n_layer'],results_layers['test_loss'], label='test')\n",
        "plt.xlabel('Обучение')\n",
        "plt.ylabel('Ошибка')\n",
        "plt.show()\n",
        "\n",
        "plt.figure(figsize=(16, 5))\n",
        "plt.plot(results_layers['n_layer'],results_layers['train_metric'], label='train')\n",
        "plt.plot(results_layers['n_layer'],results_layers['test_metric'], label='test')\n",
        "plt.xlabel('Число слоев')\n",
        "plt.ylabel('Accuracy')\n",
        "plt.show()"
      ]
    },
    {
      "cell_type": "markdown",
      "id": "thick-inside",
      "metadata": {
        "id": "thick-inside"
      },
      "source": [
        "Лучшее качество получилось на 5 слоях с 45 нейронами.<br>\n",
        "На 2, 3 и 5 слоях качество и ошибка примерно соразмерны, на 10 слоях качество прилично просело. Может быть это связано с тем, что количество нейронов скрытых слоев ниже, чтобы сохранить общее количество тренируемых параметров."
      ]
    },
    {
      "cell_type": "code",
      "execution_count": null,
      "id": "rational-rebound",
      "metadata": {
        "colab": {
          "base_uri": "https://localhost:8080/",
          "height": 1000
        },
        "id": "rational-rebound",
        "outputId": "43fa4e43-6393-4d15-8010-4620ced6a83b"
      },
      "outputs": [
        {
          "name": "stdout",
          "output_type": "stream",
          "text": [
            "Оптимизатор: SGD\n",
            "Epoch 1/5\n",
            "938/938 [==============================] - 4s 3ms/step - loss: 1.0901 - accuracy: 0.6052 - val_loss: 0.7811 - val_accuracy: 0.7133\n",
            "Epoch 2/5\n",
            "938/938 [==============================] - 4s 4ms/step - loss: 0.6355 - accuracy: 0.7739 - val_loss: 0.5928 - val_accuracy: 0.7954\n",
            "Epoch 3/5\n",
            "938/938 [==============================] - 5s 5ms/step - loss: 0.5479 - accuracy: 0.8087 - val_loss: 0.5765 - val_accuracy: 0.7964\n",
            "Epoch 4/5\n",
            "938/938 [==============================] - 3s 3ms/step - loss: 0.4970 - accuracy: 0.8261 - val_loss: 0.5113 - val_accuracy: 0.8176\n",
            "Epoch 5/5\n",
            "938/938 [==============================] - 3s 3ms/step - loss: 0.4612 - accuracy: 0.8364 - val_loss: 0.4739 - val_accuracy: 0.8321\n",
            "157/157 [==============================] - 0s 3ms/step - loss: 0.4739 - accuracy: 0.8321\n",
            "Качество на тесте: 0.4738953709602356, 0.832099974155426\n",
            "Оптимизатор: RMSprop\n",
            "Epoch 1/5\n",
            "938/938 [==============================] - 5s 5ms/step - loss: 0.6130 - accuracy: 0.7762 - val_loss: 0.5293 - val_accuracy: 0.8065\n",
            "Epoch 2/5\n",
            "938/938 [==============================] - 4s 4ms/step - loss: 0.4149 - accuracy: 0.8475 - val_loss: 0.4270 - val_accuracy: 0.8470\n",
            "Epoch 3/5\n",
            "938/938 [==============================] - 4s 5ms/step - loss: 0.3731 - accuracy: 0.8634 - val_loss: 0.4262 - val_accuracy: 0.8469\n",
            "Epoch 4/5\n",
            "938/938 [==============================] - 4s 4ms/step - loss: 0.3506 - accuracy: 0.8724 - val_loss: 0.4229 - val_accuracy: 0.8401\n",
            "Epoch 5/5\n",
            "938/938 [==============================] - 4s 4ms/step - loss: 0.3328 - accuracy: 0.8775 - val_loss: 0.3872 - val_accuracy: 0.8644\n",
            "157/157 [==============================] - 1s 3ms/step - loss: 0.3872 - accuracy: 0.8644\n",
            "Качество на тесте: 0.38721129298210144, 0.8644000291824341\n",
            "Оптимизатор: Adam\n",
            "Epoch 1/5\n",
            "938/938 [==============================] - 5s 4ms/step - loss: 0.5840 - accuracy: 0.7909 - val_loss: 0.4688 - val_accuracy: 0.8312\n",
            "Epoch 2/5\n",
            "938/938 [==============================] - 4s 4ms/step - loss: 0.4006 - accuracy: 0.8547 - val_loss: 0.4108 - val_accuracy: 0.8525\n",
            "Epoch 3/5\n",
            "938/938 [==============================] - 4s 4ms/step - loss: 0.3625 - accuracy: 0.8669 - val_loss: 0.3960 - val_accuracy: 0.8546\n",
            "Epoch 4/5\n",
            "938/938 [==============================] - 5s 5ms/step - loss: 0.3416 - accuracy: 0.8748 - val_loss: 0.3721 - val_accuracy: 0.8671\n",
            "Epoch 5/5\n",
            "938/938 [==============================] - 4s 4ms/step - loss: 0.3218 - accuracy: 0.8811 - val_loss: 0.3506 - val_accuracy: 0.8766\n",
            "157/157 [==============================] - 0s 3ms/step - loss: 0.3506 - accuracy: 0.8766\n",
            "Качество на тесте: 0.35060274600982666, 0.8766000270843506\n"
          ]
        },
        {
          "data": {
            "image/png": "[encoded data removed]",
            "text/plain": [
              "<Figure size 1152x504 with 1 Axes>"
            ]
          },
          "metadata": {
            "needs_background": "light"
          },
          "output_type": "display_data"
        },
        {
          "name": "stdout",
          "output_type": "stream",
          "text": [
            "CPU times: user 1min 25s, sys: 6.03 s, total: 1min 31s\n",
            "Wall time: 1min 17s\n"
          ]
        }
      ],
      "source": [
        "%%time\n",
        "\n",
        "model = Sequential([\n",
        "    Dense(64, activation='relu', input_shape=(28 * 28,)),\n",
        "    Dense(45, activation='relu'),\n",
        "    Dense(45, activation='relu'),\n",
        "    Dense(45, activation='relu'),\n",
        "    Dense(45, activation='relu'),\n",
        "    Dense(10, activation='sigmoid'),\n",
        "])\n",
        "\n",
        "model.save_weights('model_weights.h5')\n",
        "\n",
        "models = {}\n",
        "\n",
        "plt.figure(figsize=(16, 7))\n",
        "colors = ['g', 'b', 'r']\n",
        "\n",
        "num_epochs = 5\n",
        "batch_size = 64\n",
        "\n",
        "epoch = np.arange(num_epochs+1)\n",
        "\n",
        "for i, i_optim in enumerate([SGD(),\n",
        "                             RMSprop(),\n",
        "                             Adam()]):\n",
        "    print(f'Оптимизатор: {i_optim.get_config()[\"name\"]}')\n",
        "    \n",
        "    model_i = Sequential([\n",
        "        Dense(64, activation='relu', input_shape=(28 * 28,)),\n",
        "        Dense(45, activation='relu'),\n",
        "        Dense(45, activation='relu'),\n",
        "        Dense(45, activation='relu'),\n",
        "        Dense(45, activation='relu'),\n",
        "        Dense(10, activation='sigmoid'),\n",
        "    ])\n",
        "    \n",
        "    model_i.load_weights('model_weights.h5')\n",
        "    \n",
        "    model_i.compile(\n",
        "        optimizer=i_optim,\n",
        "        loss='categorical_crossentropy',\n",
        "        metrics=['accuracy'],\n",
        "        )\n",
        "    \n",
        "    h0_train = model_i.evaluate(X_train, y_train, verbose=0)\n",
        "    h0_val = model_i.evaluate(X_test, y_test, verbose=0)\n",
        "\n",
        "    h = model_i.fit(X_train, y_train,\n",
        "                    epochs=num_epochs,\n",
        "                    batch_size=batch_size,\n",
        "                    validation_data=(X_test, y_test),\n",
        "                    verbose=1)\n",
        "    \n",
        "    loss, metric = model_i.evaluate(X_test, y_test, batch_size=64)\n",
        "    print(f'Качество на тесте: {loss}, {metric}')\n",
        "    \n",
        "    models[i_optim.get_config()['name']] = model_i\n",
        "    \n",
        "    plt.plot(epoch, ([h0_train[0]] + h.history['accuracy']),\n",
        "             '-', c=colors[i],\n",
        "             label=model_i.optimizer.get_config()['name'] + ' train')\n",
        "    plt.plot(epoch, ([h0_val[0]] + h.history['val_accuracy']),\n",
        "             '--', c=colors[i],\n",
        "             label=f'{model_i.optimizer.get_config()[\"name\"]} val {metric:.2f}')\n",
        "\n",
        "plt.legend()\n",
        "plt.title('нейросети от оптимизатора accuracy')\n",
        "plt.xlabel('epoch')\n",
        "plt.ylabel('accuracy')\n",
        "plt.show()"
      ]
    },
    {
      "cell_type": "markdown",
      "id": "secure-letter",
      "metadata": {
        "id": "secure-letter"
      },
      "source": [
        "Итог :\n",
        "\n",
        "Стохастический градиент является самым низким по качеству оптимизатором , далее идет RMSprop , который борется с ошибкой при увеличении количества эпох.А самым лучшим оптимизатором является Adam , который объединяет в себе сглаживание оптимизации  и уменьшение скорости обучения.   "
      ]
    }
  ],
  "metadata": {
    "colab": {
      "provenance": []
    },
    "kernelspec": {
      "display_name": "Python 3",
      "language": "python",
      "name": "python3"
    },
    "language_info": {
      "codemirror_mode": {
        "name": "ipython",
        "version": 3
      },
      "file_extension": ".py",
      "mimetype": "text/x-python",
      "name": "python",
      "nbconvert_exporter": "python",
      "pygments_lexer": "ipython3",
      "version": "3.7.8"
    }
  },
  "nbformat": 4,
  "nbformat_minor": 5
}
